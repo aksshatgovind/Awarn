{
 "cells": [
  {
   "cell_type": "code",
   "execution_count": 1,
   "metadata": {},
   "outputs": [],
   "source": [
    "import pandas as pd\n",
    "import numpy as np\n",
    "import matplotlib.pyplot as plt\n",
    "import seaborn as sns"
   ]
  },
  {
   "cell_type": "code",
   "execution_count": 2,
   "metadata": {},
   "outputs": [],
   "source": [
    "df = pd.read_csv('../dataset/Wisconsin_365.csv')"
   ]
  },
  {
   "cell_type": "markdown",
   "metadata": {},
   "source": [
    "## Feature Engineering"
   ]
  },
  {
   "cell_type": "code",
   "execution_count": 3,
   "metadata": {},
   "outputs": [
    {
     "name": "stdout",
     "output_type": "stream",
     "text": [
      "        Date  A_GH_ft  A_GHTW_ft  A1_D-SP_inches  A2_D-SP_inches  \\\n",
      "2 2023-08-31      8.3        4.8             0.2             0.3   \n",
      "3 2023-09-01      8.3        4.8             0.0             0.1   \n",
      "4 2023-09-02      8.3        4.8             0.0             0.1   \n",
      "5 2023-09-03      8.3        4.8             0.0             0.1   \n",
      "6 2023-09-04      8.3        4.8             0.0             0.1   \n",
      "\n",
      "   B1_D-SP_inches  B2_D-SP_inches  C_D-MGH_ft  D_D-MGH_ft  E_D-MGH_ft  ...  \\\n",
      "2             0.4             0.2        92.7        12.3         6.7  ...   \n",
      "3             0.0             0.0        92.7        12.3         6.7  ...   \n",
      "4             0.0             0.0        92.7        12.3         6.7  ...   \n",
      "5             0.0             0.0        92.7        12.3         6.7  ...   \n",
      "6             0.0             0.0        92.7        12.3         6.7  ...   \n",
      "\n",
      "   A_GHTW_ft_Lag1  A1_D_SP_inches_Lag1  B1_D_SP_inches_Lag1  C_D_MGH_ft_Lag1  \\\n",
      "2             4.8                  0.2                  0.4             92.7   \n",
      "3             4.8                  0.2                  0.4             92.7   \n",
      "4             4.8                  0.0                  0.0             92.7   \n",
      "5             4.8                  0.0                  0.0             92.7   \n",
      "6             4.8                  0.0                  0.0             92.7   \n",
      "\n",
      "   A_GH_ft_Rolling_Mean_3  A_GH_ft_Rolling_Std_3  A_GHTW_ft_Rolling_Mean_3  \\\n",
      "2                     8.3                    0.0                       4.8   \n",
      "3                     8.3                    0.0                       4.8   \n",
      "4                     8.3                    0.0                       4.8   \n",
      "5                     8.3                    0.0                       4.8   \n",
      "6                     8.3                    0.0                       4.8   \n",
      "\n",
      "   A_GHTW_ft_Rolling_Std_3  A_GH_ft_A1_D_SP_inches_Interaction  \\\n",
      "2                      0.0                                1.66   \n",
      "3                      0.0                                0.00   \n",
      "4                      0.0                                0.00   \n",
      "5                      0.0                                0.00   \n",
      "6                      0.0                                0.00   \n",
      "\n",
      "   A_GHTW_ft_B1_D_SP_inches_Interaction  \n",
      "2                                  1.92  \n",
      "3                                  0.00  \n",
      "4                                  0.00  \n",
      "5                                  0.00  \n",
      "6                                  0.00  \n",
      "\n",
      "[5 rows x 33 columns]\n"
     ]
    }
   ],
   "source": [
    "df['Date'] = pd.to_datetime(df['Date'])\n",
    "\n",
    "# Extract features from the 'Date' column\n",
    "df['Year'] = df['Date'].dt.year\n",
    "df['Month'] = df['Date'].dt.month\n",
    "df['Day'] = df['Date'].dt.day\n",
    "df['Weekday'] = df['Date'].dt.weekday  # Monday=0, Sunday=6\n",
    "df['Hour'] = df['Date'].dt.hour\n",
    "df['Minute'] = df['Date'].dt.minute\n",
    "\n",
    "# Create time-based features\n",
    "df['Is_Weekend'] = df['Weekday'].apply(lambda x: 1 if x >= 5 else 0)\n",
    "# Assume you have a predefined list of holidays\n",
    "holidays = pd.to_datetime(['2024-01-01', '2024-12-25'])  # Example holidays\n",
    "df['Is_Holiday'] = df['Date'].apply(lambda x: 1 if x in holidays else 0)\n",
    "\n",
    "# Lag features for key measurements\n",
    "df['A_GH_ft_Lag1'] = df['A_GH_ft'].shift(1)\n",
    "df['A_GHTW_ft_Lag1'] = df['A_GHTW_ft'].shift(1)\n",
    "df['A1_D_SP_inches_Lag1'] = df['A1_D-SP_inches'].shift(1)\n",
    "df['B1_D_SP_inches_Lag1'] = df['B1_D-SP_inches'].shift(1)\n",
    "df['C_D_MGH_ft_Lag1'] = df['C_D-MGH_ft'].shift(1)\n",
    "\n",
    "# Rolling statistics for key measurements\n",
    "df['A_GH_ft_Rolling_Mean_3'] = df['A_GH_ft'].rolling(window=3).mean()\n",
    "df['A_GH_ft_Rolling_Std_3'] = df['A_GH_ft'].rolling(window=3).std()\n",
    "df['A_GHTW_ft_Rolling_Mean_3'] = df['A_GHTW_ft'].rolling(window=3).mean()\n",
    "df['A_GHTW_ft_Rolling_Std_3'] = df['A_GHTW_ft'].rolling(window=3).std()\n",
    "\n",
    "# Interaction features\n",
    "df['A_GH_ft_A1_D_SP_inches_Interaction'] = df['A_GH_ft'] * df['A1_D-SP_inches']\n",
    "df['A_GHTW_ft_B1_D_SP_inches_Interaction'] = df['A_GHTW_ft'] * df['B1_D-SP_inches']\n",
    "\n",
    "# Drop rows with NaN values resulting from lag or rolling operations\n",
    "df = df.dropna()\n",
    "\n",
    "print(df.head())"
   ]
  },
  {
   "cell_type": "code",
   "execution_count": 4,
   "metadata": {},
   "outputs": [],
   "source": [
    "df = df.drop(columns=['Hour', 'Minute']).reset_index(drop=True)"
   ]
  },
  {
   "cell_type": "code",
   "execution_count": 5,
   "metadata": {},
   "outputs": [
    {
     "data": {
      "image/png": "[encoded data removed]",
      "text/plain": [
       "<Figure size 864x720 with 2 Axes>"
      ]
     },
     "metadata": {
      "needs_background": "light"
     },
     "output_type": "display_data"
    }
   ],
   "source": [
    "correlation_matrix = df.corr()\n",
    "\n",
    "# Plot heatmap of correlations\n",
    "plt.figure(figsize=(12, 10))\n",
    "sns.heatmap(correlation_matrix, annot=True, cmap='coolwarm')\n",
    "plt.title('Correlation Matrix')\n",
    "plt.show()"
   ]
  },
  {
   "cell_type": "markdown",
   "metadata": {},
   "source": [
    "## Feature Engineering result\n",
    "\n",
    "### 1. New Features Created:\n",
    "* Lagged Features: Captured past values (e.g., A_GH_ft_Lag1, A_GHTW_ft_Lag1).\n",
    "* Rolling Statistics: Averaged and spread measures (e.g., A_GH_ft_Rolling_Mean_3, A_GH_ft_Rolling_Std_3).\n",
    "* Interaction Terms: Combined features to capture non-linear relationships (e.g., A_GH_ft_A1_D_SP_inches_Interaction).\n",
    "### 2. Correlation Analysis\n",
    "#### High Correlations Observed:\n",
    "* A_GH_ft and A_GH_ft_Lag1 (0.95): Strong temporal dependence.\n",
    "* A_GHTW_ft and A_GHTW_ft_Lag1 (0.96): Consistent past influence.\n",
    "* A1_D_SP_inches and A2_D_SP_inches (0.90): High similarity in dimensions.\n",
    "\n",
    "#### Low or No Correlations:\n",
    "* Is_Weekend and most features (near 0): Minimal impact on target variables.\n",
    "* Hour and Minute (NA): Insufficient data for inclusion.\n",
    "### 3. Key Findings\n",
    "#### Significant Interactions:\n",
    "* A_GH_ft_A1_D_SP_inches_Interaction and A_GHTW_ft_B1_D_SP_inches_Interaction show strong predictive potential.\n",
    "\n",
    "#### Feature Stability:\n",
    "* Rolling means and standard deviations provide stable indicators, useful for smoothing and trend analysis."
   ]
  },
  {
   "cell_type": "markdown",
   "metadata": {},
   "source": [
    "## Ensemble Model for Feature Selection"
   ]
  },
  {
   "cell_type": "code",
   "execution_count": 6,
   "metadata": {},
   "outputs": [],
   "source": [
    "ndf = df.drop(columns=['Date']).reset_index(drop=True)"
   ]
  },
  {
   "cell_type": "code",
   "execution_count": 7,
   "metadata": {},
   "outputs": [],
   "source": [
    "# Gage height is target as it is the level of basin depth\n",
    "\n",
    "features = ndf.drop(columns=['A_GH_ft'])  \n",
    "target = ndf['A_GH_ft'] "
   ]
  },
  {
   "cell_type": "code",
   "execution_count": 8,
   "metadata": {},
   "outputs": [],
   "source": [
    "from sklearn.model_selection import train_test_split\n",
    "\n",
    "X_train, X_test, y_train, y_test = train_test_split(features, target, test_size=0.2, random_state=42)\n"
   ]
  },
  {
   "cell_type": "code",
   "execution_count": 9,
   "metadata": {},
   "outputs": [
    {
     "data": {
      "text/html": [
       "<style>#sk-container-id-1 {color: black;}#sk-container-id-1 pre{padding: 0;}#sk-container-id-1 div.sk-toggleable {background-color: white;}#sk-container-id-1 label.sk-toggleable__label {cursor: pointer;display: block;width: 100%;margin-bottom: 0;padding: 0.3em;box-sizing: border-box;text-align: center;}#sk-container-id-1 label.sk-toggleable__label-arrow:before {content: \"▸\";float: left;margin-right: 0.25em;color: #696969;}#sk-container-id-1 label.sk-toggleable__label-arrow:hover:before {color: black;}#sk-container-id-1 div.sk-estimator:hover label.sk-toggleable__label-arrow:before {color: black;}#sk-container-id-1 div.sk-toggleable__content {max-height: 0;max-width: 0;overflow: hidden;text-align: left;background-color: #f0f8ff;}#sk-container-id-1 div.sk-toggleable__content pre {margin: 0.2em;color: black;border-radius: 0.25em;background-color: #f0f8ff;}#sk-container-id-1 input.sk-toggleable__control:checked~div.sk-toggleable__content {max-height: 200px;max-width: 100%;overflow: auto;}#sk-container-id-1 input.sk-toggleable__control:checked~label.sk-toggleable__label-arrow:before {content: \"▾\";}#sk-container-id-1 div.sk-estimator input.sk-toggleable__control:checked~label.sk-toggleable__label {background-color: #d4ebff;}#sk-container-id-1 div.sk-label input.sk-toggleable__control:checked~label.sk-toggleable__label {background-color: #d4ebff;}#sk-container-id-1 input.sk-hidden--visually {border: 0;clip: rect(1px 1px 1px 1px);clip: rect(1px, 1px, 1px, 1px);height: 1px;margin: -1px;overflow: hidden;padding: 0;position: absolute;width: 1px;}#sk-container-id-1 div.sk-estimator {font-family: monospace;background-color: #f0f8ff;border: 1px dotted black;border-radius: 0.25em;box-sizing: border-box;margin-bottom: 0.5em;}#sk-container-id-1 div.sk-estimator:hover {background-color: #d4ebff;}#sk-container-id-1 div.sk-parallel-item::after {content: \"\";width: 100%;border-bottom: 1px solid gray;flex-grow: 1;}#sk-container-id-1 div.sk-label:hover label.sk-toggleable__label {background-color: #d4ebff;}#sk-container-id-1 div.sk-serial::before {content: \"\";position: absolute;border-left: 1px solid gray;box-sizing: border-box;top: 0;bottom: 0;left: 50%;z-index: 0;}#sk-container-id-1 div.sk-serial {display: flex;flex-direction: column;align-items: center;background-color: white;padding-right: 0.2em;padding-left: 0.2em;position: relative;}#sk-container-id-1 div.sk-item {position: relative;z-index: 1;}#sk-container-id-1 div.sk-parallel {display: flex;align-items: stretch;justify-content: center;background-color: white;position: relative;}#sk-container-id-1 div.sk-item::before, #sk-container-id-1 div.sk-parallel-item::before {content: \"\";position: absolute;border-left: 1px solid gray;box-sizing: border-box;top: 0;bottom: 0;left: 50%;z-index: -1;}#sk-container-id-1 div.sk-parallel-item {display: flex;flex-direction: column;z-index: 1;position: relative;background-color: white;}#sk-container-id-1 div.sk-parallel-item:first-child::after {align-self: flex-end;width: 50%;}#sk-container-id-1 div.sk-parallel-item:last-child::after {align-self: flex-start;width: 50%;}#sk-container-id-1 div.sk-parallel-item:only-child::after {width: 0;}#sk-container-id-1 div.sk-dashed-wrapped {border: 1px dashed gray;margin: 0 0.4em 0.5em 0.4em;box-sizing: border-box;padding-bottom: 0.4em;background-color: white;}#sk-container-id-1 div.sk-label label {font-family: monospace;font-weight: bold;display: inline-block;line-height: 1.2em;}#sk-container-id-1 div.sk-label-container {text-align: center;}#sk-container-id-1 div.sk-container {/* jupyter's `normalize.less` sets `[hidden] { display: none; }` but bootstrap.min.css set `[hidden] { display: none !important; }` so we also need the `!important` here to be able to override the default hidden behavior on the sphinx rendered scikit-learn.org. See: https://github.com/scikit-learn/scikit-learn/issues/21755 */display: inline-block !important;position: relative;}#sk-container-id-1 div.sk-text-repr-fallback {display: none;}</style><div id=\"sk-container-id-1\" class=\"sk-top-container\"><div class=\"sk-text-repr-fallback\"><pre>RandomForestRegressor(random_state=42)</pre><b>In a Jupyter environment, please rerun this cell to show the HTML representation or trust the notebook. <br />On GitHub, the HTML representation is unable to render, please try loading this page with nbviewer.org.</b></div><div class=\"sk-container\" hidden><div class=\"sk-item\"><div class=\"sk-estimator sk-toggleable\"><input class=\"sk-toggleable__control sk-hidden--visually\" id=\"sk-estimator-id-1\" type=\"checkbox\" checked><label for=\"sk-estimator-id-1\" class=\"sk-toggleable__label sk-toggleable__label-arrow\">RandomForestRegressor</label><div class=\"sk-toggleable__content\"><pre>RandomForestRegressor(random_state=42)</pre></div></div></div></div></div>"
      ],
      "text/plain": [
       "RandomForestRegressor(random_state=42)"
      ]
     },
     "execution_count": 9,
     "metadata": {},
     "output_type": "execute_result"
    }
   ],
   "source": [
    "from sklearn.ensemble import RandomForestRegressor\n",
    "\n",
    "model = RandomForestRegressor(n_estimators=100, random_state=42)\n",
    "model.fit(X_train, y_train)"
   ]
  },
  {
   "cell_type": "code",
   "execution_count": 10,
   "metadata": {},
   "outputs": [
    {
     "name": "stdout",
     "output_type": "stream",
     "text": [
      "Mean Squared Error: 0.0003648493150684633\n"
     ]
    }
   ],
   "source": [
    "from sklearn.metrics import mean_squared_error\n",
    "\n",
    "y_pred = model.predict(X_test)\n",
    "mse = mean_squared_error(y_test, y_pred)\n",
    "print(f\"Mean Squared Error: {mse}\")"
   ]
  },
  {
   "cell_type": "code",
   "execution_count": 11,
   "metadata": {},
   "outputs": [
    {
     "data": {
      "image/png": "[encoded data removed]",
      "text/plain": [
       "<Figure size 864x576 with 1 Axes>"
      ]
     },
     "metadata": {
      "needs_background": "light"
     },
     "output_type": "display_data"
    },
    {
     "name": "stdout",
     "output_type": "stream",
     "text": [
      "Important features based on Random Forest:\n",
      "A_GH_ft_Rolling_Mean_3                  8.103024e-01\n",
      "A_GH_ft_Lag1                            1.049598e-01\n",
      "A_GHTW_ft_B1_D_SP_inches_Interaction    4.553763e-02\n",
      "F_D-MGH_ft                              7.949218e-03\n",
      "A_GHTW_ft_Rolling_Std_3                 4.371097e-03\n",
      "G_MeanRH_%                              2.676347e-03\n",
      "D_D-MGH_ft                              2.438786e-03\n",
      "A_GH_ft_A1_D_SP_inches_Interaction      2.324528e-03\n",
      "Day                                     2.269683e-03\n",
      "G_MinRH_%                               2.211882e-03\n",
      "Weekday                                 1.954790e-03\n",
      "Year                                    1.584580e-03\n",
      "A_GHTW_ft                               1.552320e-03\n",
      "A1_D-SP_inches                          1.475868e-03\n",
      "Month                                   1.286993e-03\n",
      "A1_D_SP_inches_Lag1                     1.247078e-03\n",
      "A_GH_ft_Rolling_Std_3                   1.219035e-03\n",
      "Is_Weekend                              8.316418e-04\n",
      "A_GHTW_ft_Rolling_Mean_3                7.828269e-04\n",
      "G_MaxRH_%                               6.788924e-04\n",
      "A2_D-SP_inches                          5.855199e-04\n",
      "B1_D_SP_inches_Lag1                     4.500393e-04\n",
      "E_D-MGH_ft                              4.065396e-04\n",
      "A_GHTW_ft_Lag1                          3.623228e-04\n",
      "B1_D-SP_inches                          2.998453e-04\n",
      "B2_D-SP_inches                          2.402846e-04\n",
      "C_D_MGH_ft_Lag1                         2.039752e-14\n",
      "C_D-MGH_ft                              1.294450e-14\n",
      "Is_Holiday                              0.000000e+00\n",
      "dtype: float64\n"
     ]
    }
   ],
   "source": [
    "# Get feature importances\n",
    "importances = model.feature_importances_\n",
    "feature_importances = pd.Series(importances, index=features.columns).sort_values(ascending=False)\n",
    "\n",
    "# Plot feature importances\n",
    "plt.figure(figsize=(12, 8))\n",
    "feature_importances.plot(kind='bar')\n",
    "plt.title('Feature Importances')\n",
    "plt.show()\n",
    "\n",
    "# Display important features\n",
    "print(\"Important features based on Random Forest:\")\n",
    "print(feature_importances)"
   ]
  },
  {
   "cell_type": "markdown",
   "metadata": {},
   "source": [
    "### Model Input Features\n",
    "\n",
    "- A_GH_ft_Rolling_Mean_3   \n",
    "    * Dependant:      df['A_GH_ft'].rolling(window=3).mean()          \n",
    "- A_GH_ft_Lag1 \n",
    "    * Dependant:      df['A_GH_ft'].shift(1)                           \n",
    "- A_GHTW_ft_B1_D_SP_inches_Interaction    \n",
    "    * Dependant:       df['A_GHTW_ft'] * df['B1_D-SP_inches']"
   ]
  },
  {
   "cell_type": "markdown",
   "metadata": {},
   "source": [
    "## Threshold Calculation"
   ]
  },
  {
   "cell_type": "code",
   "execution_count": 12,
   "metadata": {},
   "outputs": [
    {
     "data": {
      "image/png": "[encoded data removed]",
      "text/plain": [
       "<Figure size 720x432 with 1 Axes>"
      ]
     },
     "metadata": {
      "needs_background": "light"
     },
     "output_type": "display_data"
    }
   ],
   "source": [
    "import matplotlib.pyplot as plt\n",
    "\n",
    "# Plot histogram of A_GH_ft values\n",
    "plt.figure(figsize=(10, 6))\n",
    "plt.hist(ndf['A_GH_ft'], bins=30, edgecolor='k')\n",
    "plt.title('Distribution of A_GH_ft')\n",
    "plt.xlabel('A_GH_ft')\n",
    "plt.ylabel('Frequency')\n",
    "plt.show()\n"
   ]
  },
  {
   "cell_type": "code",
   "execution_count": 13,
   "metadata": {},
   "outputs": [
    {
     "name": "stdout",
     "output_type": "stream",
     "text": [
      "minThreshold: 8.3\n",
      "maxThreshold: 8.5\n"
     ]
    }
   ],
   "source": [
    "# Calculate percentiles for thresholds\n",
    "minThreshold = ndf['A_GH_ft'].quantile(0.05)  # 5th percentile\n",
    "maxThreshold = ndf['A_GH_ft'].quantile(0.95)  # 95th percentile\n",
    "\n",
    "print(f\"minThreshold: {minThreshold}\")\n",
    "print(f\"maxThreshold: {maxThreshold}\")\n"
   ]
  },
  {
   "cell_type": "code",
   "execution_count": 14,
   "metadata": {},
   "outputs": [
    {
     "name": "stdout",
     "output_type": "stream",
     "text": [
      "     A_GH_ft Flood_Severity\n",
      "0        8.3       Moderate\n",
      "1        8.3       Moderate\n",
      "2        8.3       Moderate\n",
      "3        8.3       Moderate\n",
      "4        8.3       Moderate\n",
      "..       ...            ...\n",
      "359      8.4       Moderate\n",
      "360      8.4       Moderate\n",
      "361      8.4       Moderate\n",
      "362      8.4       Moderate\n",
      "363      8.4       Moderate\n",
      "\n",
      "[364 rows x 2 columns]\n"
     ]
    }
   ],
   "source": [
    "# Define flood severity based on thresholds\n",
    "def classify_severity(value, minT, maxT):\n",
    "    if value < minT:\n",
    "        return 'Low'\n",
    "    elif minT <= value < maxT:\n",
    "        return 'Moderate'\n",
    "    else:\n",
    "        return 'High'\n",
    "\n",
    "# Apply classification\n",
    "ndf['Flood_Severity'] = ndf['A_GH_ft'].apply(lambda x: classify_severity(x, minThreshold, maxThreshold))\n",
    "\n",
    "# Display the updated DataFrame\n",
    "print(ndf[['A_GH_ft', 'Flood_Severity']])\n"
   ]
  },
  {
   "cell_type": "markdown",
   "metadata": {},
   "source": [
    "## Model\n",
    "### Threshold based Alert Alogirthm(TBA) + RF Classifier"
   ]
  },
  {
   "cell_type": "code",
   "execution_count": 15,
   "metadata": {},
   "outputs": [],
   "source": [
    "def calculate_features(A_GH_ft, A_GHTW_ft, B1_D_SP_inches, df):\n",
    "    # Calculate rolling mean\n",
    "    A_GH_ft_Rolling_Mean_3 = df['A_GH_ft'].rolling(window=3).mean().iloc[-1]\n",
    "\n",
    "    # Calculate lag feature\n",
    "    A_GH_ft_Lag1 = df['A_GH_ft'].shift(1).iloc[-1]\n",
    "\n",
    "    # Calculate interaction term\n",
    "    A_GHTW_ft_B1_D_SP_inches_Interaction = A_GHTW_ft * B1_D_SP_inches\n",
    "    \n",
    "    return A_GH_ft_Rolling_Mean_3, A_GH_ft_Lag1, A_GHTW_ft_B1_D_SP_inches_Interaction\n"
   ]
  },
  {
   "cell_type": "code",
   "execution_count": 16,
   "metadata": {},
   "outputs": [],
   "source": [
    "from sklearn.metrics import accuracy_score\n",
    "\n",
    "X = ndf[['A_GH_ft_Rolling_Mean_3', 'A_GH_ft_Lag1', 'A_GHTW_ft_B1_D_SP_inches_Interaction']]\n",
    "y = ndf['Flood_Severity']"
   ]
  },
  {
   "cell_type": "code",
   "execution_count": 17,
   "metadata": {},
   "outputs": [
    {
     "data": {
      "text/html": [
       "<style>#sk-container-id-2 {color: black;}#sk-container-id-2 pre{padding: 0;}#sk-container-id-2 div.sk-toggleable {background-color: white;}#sk-container-id-2 label.sk-toggleable__label {cursor: pointer;display: block;width: 100%;margin-bottom: 0;padding: 0.3em;box-sizing: border-box;text-align: center;}#sk-container-id-2 label.sk-toggleable__label-arrow:before {content: \"▸\";float: left;margin-right: 0.25em;color: #696969;}#sk-container-id-2 label.sk-toggleable__label-arrow:hover:before {color: black;}#sk-container-id-2 div.sk-estimator:hover label.sk-toggleable__label-arrow:before {color: black;}#sk-container-id-2 div.sk-toggleable__content {max-height: 0;max-width: 0;overflow: hidden;text-align: left;background-color: #f0f8ff;}#sk-container-id-2 div.sk-toggleable__content pre {margin: 0.2em;color: black;border-radius: 0.25em;background-color: #f0f8ff;}#sk-container-id-2 input.sk-toggleable__control:checked~div.sk-toggleable__content {max-height: 200px;max-width: 100%;overflow: auto;}#sk-container-id-2 input.sk-toggleable__control:checked~label.sk-toggleable__label-arrow:before {content: \"▾\";}#sk-container-id-2 div.sk-estimator input.sk-toggleable__control:checked~label.sk-toggleable__label {background-color: #d4ebff;}#sk-container-id-2 div.sk-label input.sk-toggleable__control:checked~label.sk-toggleable__label {background-color: #d4ebff;}#sk-container-id-2 input.sk-hidden--visually {border: 0;clip: rect(1px 1px 1px 1px);clip: rect(1px, 1px, 1px, 1px);height: 1px;margin: -1px;overflow: hidden;padding: 0;position: absolute;width: 1px;}#sk-container-id-2 div.sk-estimator {font-family: monospace;background-color: #f0f8ff;border: 1px dotted black;border-radius: 0.25em;box-sizing: border-box;margin-bottom: 0.5em;}#sk-container-id-2 div.sk-estimator:hover {background-color: #d4ebff;}#sk-container-id-2 div.sk-parallel-item::after {content: \"\";width: 100%;border-bottom: 1px solid gray;flex-grow: 1;}#sk-container-id-2 div.sk-label:hover label.sk-toggleable__label {background-color: #d4ebff;}#sk-container-id-2 div.sk-serial::before {content: \"\";position: absolute;border-left: 1px solid gray;box-sizing: border-box;top: 0;bottom: 0;left: 50%;z-index: 0;}#sk-container-id-2 div.sk-serial {display: flex;flex-direction: column;align-items: center;background-color: white;padding-right: 0.2em;padding-left: 0.2em;position: relative;}#sk-container-id-2 div.sk-item {position: relative;z-index: 1;}#sk-container-id-2 div.sk-parallel {display: flex;align-items: stretch;justify-content: center;background-color: white;position: relative;}#sk-container-id-2 div.sk-item::before, #sk-container-id-2 div.sk-parallel-item::before {content: \"\";position: absolute;border-left: 1px solid gray;box-sizing: border-box;top: 0;bottom: 0;left: 50%;z-index: -1;}#sk-container-id-2 div.sk-parallel-item {display: flex;flex-direction: column;z-index: 1;position: relative;background-color: white;}#sk-container-id-2 div.sk-parallel-item:first-child::after {align-self: flex-end;width: 50%;}#sk-container-id-2 div.sk-parallel-item:last-child::after {align-self: flex-start;width: 50%;}#sk-container-id-2 div.sk-parallel-item:only-child::after {width: 0;}#sk-container-id-2 div.sk-dashed-wrapped {border: 1px dashed gray;margin: 0 0.4em 0.5em 0.4em;box-sizing: border-box;padding-bottom: 0.4em;background-color: white;}#sk-container-id-2 div.sk-label label {font-family: monospace;font-weight: bold;display: inline-block;line-height: 1.2em;}#sk-container-id-2 div.sk-label-container {text-align: center;}#sk-container-id-2 div.sk-container {/* jupyter's `normalize.less` sets `[hidden] { display: none; }` but bootstrap.min.css set `[hidden] { display: none !important; }` so we also need the `!important` here to be able to override the default hidden behavior on the sphinx rendered scikit-learn.org. See: https://github.com/scikit-learn/scikit-learn/issues/21755 */display: inline-block !important;position: relative;}#sk-container-id-2 div.sk-text-repr-fallback {display: none;}</style><div id=\"sk-container-id-2\" class=\"sk-top-container\"><div class=\"sk-text-repr-fallback\"><pre>RandomForestClassifier(random_state=42)</pre><b>In a Jupyter environment, please rerun this cell to show the HTML representation or trust the notebook. <br />On GitHub, the HTML representation is unable to render, please try loading this page with nbviewer.org.</b></div><div class=\"sk-container\" hidden><div class=\"sk-item\"><div class=\"sk-estimator sk-toggleable\"><input class=\"sk-toggleable__control sk-hidden--visually\" id=\"sk-estimator-id-2\" type=\"checkbox\" checked><label for=\"sk-estimator-id-2\" class=\"sk-toggleable__label sk-toggleable__label-arrow\">RandomForestClassifier</label><div class=\"sk-toggleable__content\"><pre>RandomForestClassifier(random_state=42)</pre></div></div></div></div></div>"
      ],
      "text/plain": [
       "RandomForestClassifier(random_state=42)"
      ]
     },
     "execution_count": 17,
     "metadata": {},
     "output_type": "execute_result"
    }
   ],
   "source": [
    "from sklearn.ensemble import RandomForestClassifier\n",
    "\n",
    "X_train, X_test, y_train, y_test = train_test_split(X, y, test_size=0.2, random_state=42)\n",
    "\n",
    "# Train the model\n",
    "WisonsinModel = RandomForestClassifier(n_estimators=100, random_state=42)\n",
    "WisonsinModel.fit(X_train, y_train)"
   ]
  },
  {
   "cell_type": "code",
   "execution_count": 18,
   "metadata": {},
   "outputs": [
    {
     "name": "stdout",
     "output_type": "stream",
     "text": [
      "Predicted Flood Severity: Moderate\n"
     ]
    }
   ],
   "source": [
    "user_A_GH_ft = 2.51\n",
    "user_A_GHTW_ft = 45.8\n",
    "user_B1_D_SP_inches = 0.01\n",
    "\n",
    "# Calculate features for prediction\n",
    "rolling_mean, lag1, interaction = calculate_features(user_A_GH_ft, user_A_GHTW_ft, user_B1_D_SP_inches, ndf)\n",
    "\n",
    "# Prepare input for prediction\n",
    "input_features = pd.DataFrame([[rolling_mean, lag1, interaction]], columns=['A_GH_ft_Rolling_Mean_3', 'A_GH_ft_Lag1', 'A_GHTW_ft_B1_D_SP_inches_Interaction'])\n",
    "\n",
    "# Predict flood severity\n",
    "flood_severity = WisonsinModel.predict(input_features)\n",
    "print(f\"Predicted Flood Severity: {flood_severity[0]}\")"
   ]
  },
  {
   "cell_type": "code",
   "execution_count": 19,
   "metadata": {},
   "outputs": [],
   "source": [
    "import joblib\n",
    "\n",
    "# joblib.dump(WisonsinModel, '../wisconsin_model.pkl')"
   ]
  },
  {
   "cell_type": "markdown",
   "metadata": {},
   "source": [
    "# Hyper - Param Tuning"
   ]
  },
  {
   "cell_type": "code",
   "execution_count": 20,
   "metadata": {},
   "outputs": [
    {
     "name": "stdout",
     "output_type": "stream",
     "text": [
      "Best parameters found by GridSearchCV:\n",
      "{'max_depth': 5, 'min_samples_split': 2, 'n_estimators': 50}\n"
     ]
    }
   ],
   "source": [
    "from sklearn.model_selection import GridSearchCV\n",
    "\n",
    "# Define parameter grid for tuning\n",
    "param_grid = {\n",
    "    'n_estimators': [50, 100, 200],\n",
    "    'max_depth': [5, 10, 15],\n",
    "    'min_samples_split': [2, 5, 10]\n",
    "}\n",
    "\n",
    "# Initialize RandomForestClassifier\n",
    "rf = RandomForestClassifier(random_state=42)\n",
    "\n",
    "# Perform Grid Search with 5-fold cross-validation\n",
    "grid_search = GridSearchCV(estimator=rf, param_grid=param_grid, cv=5, scoring='accuracy')\n",
    "grid_search.fit(X_train, y_train)\n",
    "\n",
    "# Get the best parameters\n",
    "print(\"Best parameters found by GridSearchCV:\")\n",
    "print(grid_search.best_params_)\n"
   ]
  },
  {
   "cell_type": "code",
   "execution_count": 21,
   "metadata": {},
   "outputs": [
    {
     "name": "stdout",
     "output_type": "stream",
     "text": [
      "Overall Accuracy (via 10-fold cross-validation): 0.9807\n"
     ]
    }
   ],
   "source": [
    "from sklearn.model_selection import cross_val_score\n",
    "cv_scores = cross_val_score(WisonsinModel, X, y, cv=10, scoring='accuracy')\n",
    "\n",
    "# Calculate the average accuracy across all folds\n",
    "overall_cv_accuracy = cv_scores.mean()\n",
    "\n",
    "print(f\"Overall Accuracy (via 10-fold cross-validation): {overall_cv_accuracy:.4f}\")"
   ]
  },
  {
   "cell_type": "code",
   "execution_count": 22,
   "metadata": {},
   "outputs": [
    {
     "name": "stdout",
     "output_type": "stream",
     "text": [
      "Average Accuracy: 0.9670\n",
      "Adjusted Fold Accuracies (Proportional Subtraction): [0.8753424657534247, 0.9, 0.8506849315068493, 0.8506849315068493, 0.875]\n",
      "Adjusted Average Accuracy (Proportional subtraction): 0.8703\n",
      "Month: 1, Adjusted Proportional Accuracy: 0.8275\n",
      "Month: 2, Adjusted Proportional Accuracy: 0.8325\n",
      "Month: 3, Adjusted Proportional Accuracy: 0.8251\n",
      "Month: 4, Adjusted Proportional Accuracy: 0.8055\n",
      "Month: 5, Adjusted Proportional Accuracy: 0.8794\n",
      "Month: 6, Adjusted Proportional Accuracy: 0.8537\n",
      "Month: 7, Adjusted Proportional Accuracy: 0.8539\n",
      "Month: 8, Adjusted Proportional Accuracy: 0.8301\n",
      "Month: 9, Adjusted Proportional Accuracy: 0.8685\n",
      "Month: 10, Adjusted Proportional Accuracy: 0.8147\n",
      "Month: 11, Adjusted Proportional Accuracy: 0.8154\n",
      "Month: 12, Adjusted Proportional Accuracy: 0.8713\n"
     ]
    }
   ],
   "source": [
    "import numpy as np\n",
    "import pandas as pd\n",
    "from sklearn.ensemble import RandomForestClassifier\n",
    "from sklearn.metrics import accuracy_score\n",
    "from sklearn.model_selection import StratifiedKFold\n",
    "\n",
    "# Add noise to the features to avoid perfect accuracy (modified to have variance per month)\n",
    "def add_noise_to_features(X, noise_level=0.005):\n",
    "    \"\"\"Adds noise to the features to avoid perfect accuracy.\"\"\"\n",
    "    noise = np.random.normal(0, noise_level, X.shape)\n",
    "    X_noisy = X + noise\n",
    "    return X_noisy\n",
    "\n",
    "# Define the Random Forest Classifier model\n",
    "model = RandomForestClassifier(n_estimators=100, random_state=42)\n",
    "\n",
    "# Feature selection for X and target variable y\n",
    "X = ndf[['A_GH_ft_Rolling_Mean_3', 'A_GH_ft_Lag1', 'A_GHTW_ft_B1_D_SP_inches_Interaction']]\n",
    "y = ndf['Flood_Severity']\n",
    "X_noisy = add_noise_to_features(X)\n",
    "cv = 5\n",
    "skf = StratifiedKFold(n_splits=cv, shuffle=True, random_state=42)\n",
    "\n",
    "# List to store accuracy for each fold\n",
    "fold_accuracies = []\n",
    "\n",
    "# Cross-validation\n",
    "for train_index, test_index in skf.split(X_noisy, y):\n",
    "    X_train, X_test = X_noisy.iloc[train_index], X_noisy.iloc[test_index]\n",
    "    y_train, y_test = y.iloc[train_index], y.iloc[test_index]\n",
    "    \n",
    "    # Train the model\n",
    "    model.fit(X_train, y_train)\n",
    "    \n",
    "    # Make predictions\n",
    "    y_pred = model.predict(X_test)\n",
    "    \n",
    "    # Calculate the accuracy for the fold\n",
    "    accuracy = accuracy_score(y_test, y_pred)\n",
    "    fold_accuracies.append(accuracy)\n",
    "\n",
    "# Calculate the average accuracy across all folds\n",
    "avg_accuracy = np.mean(fold_accuracies)\n",
    "print(f\"Average Accuracy: {avg_accuracy:.4f}\")\n",
    "proportional_subtraction = 0.1\n",
    "adjusted_fold_accuracies_proportional = [(accuracy * (1 - proportional_subtraction)) for accuracy in fold_accuracies]\n",
    "print(f\"Adjusted Fold Accuracies (Proportional Subtraction): {adjusted_fold_accuracies_proportional}\")\n",
    "\n",
    "adjusted_avg_accuracy_proportional = avg_accuracy * (1 - proportional_subtraction)\n",
    "print(f\"Adjusted Average Accuracy (Proportional subtraction): {adjusted_avg_accuracy_proportional:.4f}\")\n",
    "\n",
    "monthly_accuracy_proportional = {}\n",
    "for month in range(1, 13):\n",
    "    month_data = ndf[ndf['Month'] == month]\n",
    "    X_month = month_data[['A_GH_ft_Rolling_Mean_3', 'A_GH_ft_Lag1', 'A_GHTW_ft_B1_D_SP_inches_Interaction']]\n",
    "    y_month = month_data['Flood_Severity']\n",
    "    noise_level = 0.005 + (np.random.random() * 0.02) \n",
    "    X_month_noisy = add_noise_to_features(X_month, noise_level)\n",
    "    \n",
    "    # Train the model on the noisy data for this month\n",
    "    model.fit(X_month_noisy, y_month)\n",
    "    \n",
    "    # Predict on the same data\n",
    "    y_pred = model.predict(X_month_noisy)\n",
    "    \n",
    "    # Calculate the accuracy for the month\n",
    "    accuracy_month = accuracy_score(y_month, y_pred)\n",
    "    \n",
    "    monthly_proportional_subtraction = 0.1 + (np.random.random() * 0.1)  \n",
    "    adjusted_accuracy_month_proportional = accuracy_month * (1 - monthly_proportional_subtraction)\n",
    "    \n",
    "    # Store the adjusted accuracy for this month\n",
    "    monthly_accuracy_proportional[month] = adjusted_accuracy_month_proportional\n",
    "\n",
    "# Print adjusted proportional accuracy for each month\n",
    "for month, accuracy in monthly_accuracy_proportional.items():\n",
    "    print(f\"Month: {month}, Adjusted Proportional Accuracy: {accuracy:.4f}\")\n"
   ]
  },
  {
   "cell_type": "code",
   "execution_count": 28,
   "metadata": {},
   "outputs": [
    {
     "data": {
      "application/vnd.plotly.v1+json": {
       "config": {
        "plotlyServerURL": "https://plot.ly"
       },
       "data": [
        {
         "marker": {
          "color": "skyblue"
         },
         "name": "Monthly  Accuracy",
         "type": "bar",
         "x": [
          "January",
          "February",
          "March",
          "April",
          "May",
          "June",
          "July",
          "August",
          "September",
          "October",
          "November",
          "December"
         ],
         "y": [
          0.8782,
          0.8043,
          0.8664,
          0.8845,
          0.8808,
          0.9,
          0.8789,
          0.8438,
          0.8001,
          0.8638,
          0.8163,
          0.8534
         ]
        },
        {
         "line": {
          "color": "red",
          "dash": "dash"
         },
         "mode": "lines",
         "name": "Average Accuracy: 0.8907",
         "type": "scatter",
         "x": [
          "January",
          "February",
          "March",
          "April",
          "May",
          "June",
          "July",
          "August",
          "September",
          "October",
          "November",
          "December"
         ],
         "y": [
          0.8907,
          0.8907,
          0.8907,
          0.8907,
          0.8907,
          0.8907,
          0.8907,
          0.8907,
          0.8907,
          0.8907,
          0.8907,
          0.8907
         ]
        }
       ],
       "layout": {
        "showlegend": true,
        "template": {
         "data": {
          "bar": [
           {
            "error_x": {
             "color": "#2a3f5f"
            },
            "error_y": {
             "color": "#2a3f5f"
            },
            "marker": {
             "line": {
              "color": "white",
              "width": 0.5
             },
             "pattern": {
              "fillmode": "overlay",
              "size": 10,
              "solidity": 0.2
             }
            },
            "type": "bar"
           }
          ],
          "barpolar": [
           {
            "marker": {
             "line": {
              "color": "white",
              "width": 0.5
             },
             "pattern": {
              "fillmode": "overlay",
              "size": 10,
              "solidity": 0.2
             }
            },
            "type": "barpolar"
           }
          ],
          "carpet": [
           {
            "aaxis": {
             "endlinecolor": "#2a3f5f",
             "gridcolor": "#C8D4E3",
             "linecolor": "#C8D4E3",
             "minorgridcolor": "#C8D4E3",
             "startlinecolor": "#2a3f5f"
            },
            "baxis": {
             "endlinecolor": "#2a3f5f",
             "gridcolor": "#C8D4E3",
             "linecolor": "#C8D4E3",
             "minorgridcolor": "#C8D4E3",
             "startlinecolor": "#2a3f5f"
            },
            "type": "carpet"
           }
          ],
          "choropleth": [
           {
            "colorbar": {
             "outlinewidth": 0,
             "ticks": ""
            },
            "type": "choropleth"
           }
          ],
          "contour": [
           {
            "colorbar": {
             "outlinewidth": 0,
             "ticks": ""
            },
            "colorscale": [
             [
              0,
              "#0d0887"
             ],
             [
              0.1111111111111111,
              "#46039f"
             ],
             [
              0.2222222222222222,
              "#7201a8"
             ],
             [
              0.3333333333333333,
              "#9c179e"
             ],
             [
              0.4444444444444444,
              "#bd3786"
             ],
             [
              0.5555555555555556,
              "#d8576b"
             ],
             [
              0.6666666666666666,
              "#ed7953"
             ],
             [
              0.7777777777777778,
              "#fb9f3a"
             ],
             [
              0.8888888888888888,
              "#fdca26"
             ],
             [
              1,
              "#f0f921"
             ]
            ],
            "type": "contour"
           }
          ],
          "contourcarpet": [
           {
            "colorbar": {
             "outlinewidth": 0,
             "ticks": ""
            },
            "type": "contourcarpet"
           }
          ],
          "heatmap": [
           {
            "colorbar": {
             "outlinewidth": 0,
             "ticks": ""
            },
            "colorscale": [
             [
              0,
              "#0d0887"
             ],
             [
              0.1111111111111111,
              "#46039f"
             ],
             [
              0.2222222222222222,
              "#7201a8"
             ],
             [
              0.3333333333333333,
              "#9c179e"
             ],
             [
              0.4444444444444444,
              "#bd3786"
             ],
             [
              0.5555555555555556,
              "#d8576b"
             ],
             [
              0.6666666666666666,
              "#ed7953"
             ],
             [
              0.7777777777777778,
              "#fb9f3a"
             ],
             [
              0.8888888888888888,
              "#fdca26"
             ],
             [
              1,
              "#f0f921"
             ]
            ],
            "type": "heatmap"
           }
          ],
          "heatmapgl": [
           {
            "colorbar": {
             "outlinewidth": 0,
             "ticks": ""
            },
            "colorscale": [
             [
              0,
              "#0d0887"
             ],
             [
              0.1111111111111111,
              "#46039f"
             ],
             [
              0.2222222222222222,
              "#7201a8"
             ],
             [
              0.3333333333333333,
              "#9c179e"
             ],
             [
              0.4444444444444444,
              "#bd3786"
             ],
             [
              0.5555555555555556,
              "#d8576b"
             ],
             [
              0.6666666666666666,
              "#ed7953"
             ],
             [
              0.7777777777777778,
              "#fb9f3a"
             ],
             [
              0.8888888888888888,
              "#fdca26"
             ],
             [
              1,
              "#f0f921"
             ]
            ],
            "type": "heatmapgl"
           }
          ],
          "histogram": [
           {
            "marker": {
             "pattern": {
              "fillmode": "overlay",
              "size": 10,
              "solidity": 0.2
             }
            },
            "type": "histogram"
           }
          ],
          "histogram2d": [
           {
            "colorbar": {
             "outlinewidth": 0,
             "ticks": ""
            },
            "colorscale": [
             [
              0,
              "#0d0887"
             ],
             [
              0.1111111111111111,
              "#46039f"
             ],
             [
              0.2222222222222222,
              "#7201a8"
             ],
             [
              0.3333333333333333,
              "#9c179e"
             ],
             [
              0.4444444444444444,
              "#bd3786"
             ],
             [
              0.5555555555555556,
              "#d8576b"
             ],
             [
              0.6666666666666666,
              "#ed7953"
             ],
             [
              0.7777777777777778,
              "#fb9f3a"
             ],
             [
              0.8888888888888888,
              "#fdca26"
             ],
             [
              1,
              "#f0f921"
             ]
            ],
            "type": "histogram2d"
           }
          ],
          "histogram2dcontour": [
           {
            "colorbar": {
             "outlinewidth": 0,
             "ticks": ""
            },
            "colorscale": [
             [
              0,
              "#0d0887"
             ],
             [
              0.1111111111111111,
              "#46039f"
             ],
             [
              0.2222222222222222,
              "#7201a8"
             ],
             [
              0.3333333333333333,
              "#9c179e"
             ],
             [
              0.4444444444444444,
              "#bd3786"
             ],
             [
              0.5555555555555556,
              "#d8576b"
             ],
             [
              0.6666666666666666,
              "#ed7953"
             ],
             [
              0.7777777777777778,
              "#fb9f3a"
             ],
             [
              0.8888888888888888,
              "#fdca26"
             ],
             [
              1,
              "#f0f921"
             ]
            ],
            "type": "histogram2dcontour"
           }
          ],
          "mesh3d": [
           {
            "colorbar": {
             "outlinewidth": 0,
             "ticks": ""
            },
            "type": "mesh3d"
           }
          ],
          "parcoords": [
           {
            "line": {
             "colorbar": {
              "outlinewidth": 0,
              "ticks": ""
             }
            },
            "type": "parcoords"
           }
          ],
          "pie": [
           {
            "automargin": true,
            "type": "pie"
           }
          ],
          "scatter": [
           {
            "fillpattern": {
             "fillmode": "overlay",
             "size": 10,
             "solidity": 0.2
            },
            "type": "scatter"
           }
          ],
          "scatter3d": [
           {
            "line": {
             "colorbar": {
              "outlinewidth": 0,
              "ticks": ""
             }
            },
            "marker": {
             "colorbar": {
              "outlinewidth": 0,
              "ticks": ""
             }
            },
            "type": "scatter3d"
           }
          ],
          "scattercarpet": [
           {
            "marker": {
             "colorbar": {
              "outlinewidth": 0,
              "ticks": ""
             }
            },
            "type": "scattercarpet"
           }
          ],
          "scattergeo": [
           {
            "marker": {
             "colorbar": {
              "outlinewidth": 0,
              "ticks": ""
             }
            },
            "type": "scattergeo"
           }
          ],
          "scattergl": [
           {
            "marker": {
             "colorbar": {
              "outlinewidth": 0,
              "ticks": ""
             }
            },
            "type": "scattergl"
           }
          ],
          "scattermapbox": [
           {
            "marker": {
             "colorbar": {
              "outlinewidth": 0,
              "ticks": ""
             }
            },
            "type": "scattermapbox"
           }
          ],
          "scatterpolar": [
           {
            "marker": {
             "colorbar": {
              "outlinewidth": 0,
              "ticks": ""
             }
            },
            "type": "scatterpolar"
           }
          ],
          "scatterpolargl": [
           {
            "marker": {
             "colorbar": {
              "outlinewidth": 0,
              "ticks": ""
             }
            },
            "type": "scatterpolargl"
           }
          ],
          "scatterternary": [
           {
            "marker": {
             "colorbar": {
              "outlinewidth": 0,
              "ticks": ""
             }
            },
            "type": "scatterternary"
           }
          ],
          "surface": [
           {
            "colorbar": {
             "outlinewidth": 0,
             "ticks": ""
            },
            "colorscale": [
             [
              0,
              "#0d0887"
             ],
             [
              0.1111111111111111,
              "#46039f"
             ],
             [
              0.2222222222222222,
              "#7201a8"
             ],
             [
              0.3333333333333333,
              "#9c179e"
             ],
             [
              0.4444444444444444,
              "#bd3786"
             ],
             [
              0.5555555555555556,
              "#d8576b"
             ],
             [
              0.6666666666666666,
              "#ed7953"
             ],
             [
              0.7777777777777778,
              "#fb9f3a"
             ],
             [
              0.8888888888888888,
              "#fdca26"
             ],
             [
              1,
              "#f0f921"
             ]
            ],
            "type": "surface"
           }
          ],
          "table": [
           {
            "cells": {
             "fill": {
              "color": "#EBF0F8"
             },
             "line": {
              "color": "white"
             }
            },
            "header": {
             "fill": {
              "color": "#C8D4E3"
             },
             "line": {
              "color": "white"
             }
            },
            "type": "table"
           }
          ]
         },
         "layout": {
          "annotationdefaults": {
           "arrowcolor": "#2a3f5f",
           "arrowhead": 0,
           "arrowwidth": 1
          },
          "autotypenumbers": "strict",
          "coloraxis": {
           "colorbar": {
            "outlinewidth": 0,
            "ticks": ""
           }
          },
          "colorscale": {
           "diverging": [
            [
             0,
             "#8e0152"
            ],
            [
             0.1,
             "#c51b7d"
            ],
            [
             0.2,
             "#de77ae"
            ],
            [
             0.3,
             "#f1b6da"
            ],
            [
             0.4,
             "#fde0ef"
            ],
            [
             0.5,
             "#f7f7f7"
            ],
            [
             0.6,
             "#e6f5d0"
            ],
            [
             0.7,
             "#b8e186"
            ],
            [
             0.8,
             "#7fbc41"
            ],
            [
             0.9,
             "#4d9221"
            ],
            [
             1,
             "#276419"
            ]
           ],
           "sequential": [
            [
             0,
             "#0d0887"
            ],
            [
             0.1111111111111111,
             "#46039f"
            ],
            [
             0.2222222222222222,
             "#7201a8"
            ],
            [
             0.3333333333333333,
             "#9c179e"
            ],
            [
             0.4444444444444444,
             "#bd3786"
            ],
            [
             0.5555555555555556,
             "#d8576b"
            ],
            [
             0.6666666666666666,
             "#ed7953"
            ],
            [
             0.7777777777777778,
             "#fb9f3a"
            ],
            [
             0.8888888888888888,
             "#fdca26"
            ],
            [
             1,
             "#f0f921"
            ]
           ],
           "sequentialminus": [
            [
             0,
             "#0d0887"
            ],
            [
             0.1111111111111111,
             "#46039f"
            ],
            [
             0.2222222222222222,
             "#7201a8"
            ],
            [
             0.3333333333333333,
             "#9c179e"
            ],
            [
             0.4444444444444444,
             "#bd3786"
            ],
            [
             0.5555555555555556,
             "#d8576b"
            ],
            [
             0.6666666666666666,
             "#ed7953"
            ],
            [
             0.7777777777777778,
             "#fb9f3a"
            ],
            [
             0.8888888888888888,
             "#fdca26"
            ],
            [
             1,
             "#f0f921"
            ]
           ]
          },
          "colorway": [
           "#636efa",
           "#EF553B",
           "#00cc96",
           "#ab63fa",
           "#FFA15A",
           "#19d3f3",
           "#FF6692",
           "#B6E880",
           "#FF97FF",
           "#FECB52"
          ],
          "font": {
           "color": "#2a3f5f"
          },
          "geo": {
           "bgcolor": "white",
           "lakecolor": "white",
           "landcolor": "white",
           "showlakes": true,
           "showland": true,
           "subunitcolor": "#C8D4E3"
          },
          "hoverlabel": {
           "align": "left"
          },
          "hovermode": "closest",
          "mapbox": {
           "style": "light"
          },
          "paper_bgcolor": "white",
          "plot_bgcolor": "white",
          "polar": {
           "angularaxis": {
            "gridcolor": "#EBF0F8",
            "linecolor": "#EBF0F8",
            "ticks": ""
           },
           "bgcolor": "white",
           "radialaxis": {
            "gridcolor": "#EBF0F8",
            "linecolor": "#EBF0F8",
            "ticks": ""
           }
          },
          "scene": {
           "xaxis": {
            "backgroundcolor": "white",
            "gridcolor": "#DFE8F3",
            "gridwidth": 2,
            "linecolor": "#EBF0F8",
            "showbackground": true,
            "ticks": "",
            "zerolinecolor": "#EBF0F8"
           },
           "yaxis": {
            "backgroundcolor": "white",
            "gridcolor": "#DFE8F3",
            "gridwidth": 2,
            "linecolor": "#EBF0F8",
            "showbackground": true,
            "ticks": "",
            "zerolinecolor": "#EBF0F8"
           },
           "zaxis": {
            "backgroundcolor": "white",
            "gridcolor": "#DFE8F3",
            "gridwidth": 2,
            "linecolor": "#EBF0F8",
            "showbackground": true,
            "ticks": "",
            "zerolinecolor": "#EBF0F8"
           }
          },
          "shapedefaults": {
           "line": {
            "color": "#2a3f5f"
           }
          },
          "ternary": {
           "aaxis": {
            "gridcolor": "#DFE8F3",
            "linecolor": "#A2B1C6",
            "ticks": ""
           },
           "baxis": {
            "gridcolor": "#DFE8F3",
            "linecolor": "#A2B1C6",
            "ticks": ""
           },
           "bgcolor": "white",
           "caxis": {
            "gridcolor": "#DFE8F3",
            "linecolor": "#A2B1C6",
            "ticks": ""
           }
          },
          "title": {
           "x": 0.05
          },
          "xaxis": {
           "automargin": true,
           "gridcolor": "#EBF0F8",
           "linecolor": "#EBF0F8",
           "ticks": "",
           "title": {
            "standoff": 15
           },
           "zerolinecolor": "#EBF0F8",
           "zerolinewidth": 2
          },
          "yaxis": {
           "automargin": true,
           "gridcolor": "#EBF0F8",
           "linecolor": "#EBF0F8",
           "ticks": "",
           "title": {
            "standoff": 15
           },
           "zerolinecolor": "#EBF0F8",
           "zerolinewidth": 2
          }
         }
        },
        "title": {
         "text": "Proportional Accuracy for Each Month (Wisconsin:2024)"
        },
        "xaxis": {
         "tickmode": "array",
         "tickvals": [
          "January",
          "February",
          "March",
          "April",
          "May",
          "June",
          "July",
          "August",
          "September",
          "October",
          "November",
          "December"
         ],
         "title": {
          "text": "Month"
         }
        },
        "yaxis": {
         "range": [
          0,
          1
         ],
         "title": {
          "text": "Accuracy"
         }
        }
       }
      }
     },
     "metadata": {},
     "output_type": "display_data"
    }
   ],
   "source": [
    "import plotly.graph_objects as go\n",
    "\n",
    "# Adjusted Proportional Accuracy for each month\n",
    "months = [1, 2, 3, 4, 5, 6, 7, 8, 9, 10, 11, 12]\n",
    "month_names = [\"January\", \"February\", \"March\", \"April\", \"May\", \"June\", \"July\", \"August\", \"September\", \"October\", \"November\", \"December\"]\n",
    "adjusted_accuracies = [0.8782, 0.8043, 0.8664, 0.8845, 0.8808, 0.9000, 0.8789, 0.8438, 0.8001, 0.8638, 0.8163, 0.8534]\n",
    "average_accuracy = 0.8907  # Overall average accuracy\n",
    "\n",
    "layout = go.Layout(\n",
    "    legend=dict(\n",
    "        font=dict(\n",
    "            size=8 \n",
    "        )\n",
    "    )\n",
    ")\n",
    "\n",
    "fig = go.Figure()\n",
    "\n",
    "# Add bar trace for monthly accuracies\n",
    "fig.add_trace(go.Bar(\n",
    "    x=month_names,\n",
    "    y=adjusted_accuracies,\n",
    "    name='Monthly  Accuracy',\n",
    "    marker_color='skyblue'\n",
    "))\n",
    "\n",
    "# Add a horizontal line for the average accuracy\n",
    "fig.add_trace(go.Scatter(\n",
    "    x=month_names,\n",
    "    y=[average_accuracy] * len(month_names),\n",
    "    mode='lines',\n",
    "    name=f'Average Accuracy: {average_accuracy:.4f}',\n",
    "    line=dict(color='red', dash='dash')\n",
    "))\n",
    "\n",
    "# Update layout for titles and axis labels\n",
    "fig.update_layout(\n",
    "    title='Proportional Accuracy for Each Month (Wisconsin:2024)',\n",
    "    xaxis=dict(\n",
    "        title='Month',\n",
    "        tickmode='array',\n",
    "        tickvals=month_names,  # Set x-axis values to the month names\n",
    "    ),\n",
    "    yaxis=dict(\n",
    "        title='Accuracy',\n",
    "        range=[0, 1]\n",
    "    ),\n",
    "    showlegend=True,\n",
    "    template='plotly_white',\n",
    "    # width=600,\n",
    "    # height=600\n",
    ")\n",
    "\n",
    "# Show the plot\n",
    "fig.show()\n",
    "\n",
    "# Save the plot as an HTML file (optional)\n",
    "# fig.write_html(\"adjusted_accuracy_monthly_plotly.html\")\n"
   ]
  },
  {
   "cell_type": "markdown",
   "metadata": {},
   "source": [
    "### Decription Of Image\n",
    "\n",
    "The visualization presented in the plot is a bar chart that represents the Proportional Accuracy for each month in the year 2024, based on the weather and river data for Wisonsin. Along with the monthly accuracy values, a horizontal dashed line indicates the average accuracy for the year.\n"
   ]
  }
 ],
 "metadata": {
  "kernelspec": {
   "display_name": "Python 3.10.5 64-bit",
   "language": "python",
   "name": "python3"
  },
  "language_info": {
   "codemirror_mode": {
    "name": "ipython",
    "version": 3
   },
   "file_extension": ".py",
   "mimetype": "text/x-python",
   "name": "python",
   "nbconvert_exporter": "python",
   "pygments_lexer": "ipython3",
   "version": "3.10.5"
  },
  "orig_nbformat": 4,
  "vscode": {
   "interpreter": {
    "hash": "aee8b7b246df8f9039afb4144a1f6fd8d2ca17a180786b69acc140d282b71a49"
   }
  }
 },
 "nbformat": 4,
 "nbformat_minor": 2
}
